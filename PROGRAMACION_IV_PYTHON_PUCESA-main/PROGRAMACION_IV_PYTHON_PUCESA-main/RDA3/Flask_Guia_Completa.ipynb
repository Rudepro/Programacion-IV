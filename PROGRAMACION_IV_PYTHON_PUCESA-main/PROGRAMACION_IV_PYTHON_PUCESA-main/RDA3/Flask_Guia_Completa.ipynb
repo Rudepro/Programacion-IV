{
 "cells": [
  {
   "cell_type": "markdown",
   "id": "b3abb6eb",
   "metadata": {},
   "source": [
    "# 🧠 Guía Completa de Flask en Python\n",
    "\n",
    "Este notebook cubre los aspectos fundamentales y avanzados del framework Flask para desarrollar aplicaciones web modernas:\n",
    "\n",
    "📌 Contenidos:\n",
    "- Instalación\n",
    "- Rutas\n",
    "- Parámetros dinámicos\n",
    "- Templates con Jinja2\n",
    "- Formularios (GET y POST)\n",
    "- Archivos estáticos\n",
    "- Redirecciones y mensajes flash\n",
    "- Manejo de sesiones\n",
    "- Blueprint y estructura modular\n",
    "- Base de datos con SQLAlchemy\n",
    "- API REST con Flask\n",
    "\n",
    "---"
   ]
  },
  {
   "cell_type": "code",
   "execution_count": null,
   "id": "c0cc5001",
   "metadata": {},
   "outputs": [],
   "source": [
    "# 📦 Instalación\n",
    "# !pip install flask\n",
    "# !pip install flask flask_sqlalchemy"
   ]
  },
  {
   "cell_type": "markdown",
   "id": "e9de9938",
   "metadata": {},
   "source": [
    "## 🔹 Aplicación Básica"
   ]
  },
  {
   "cell_type": "code",
   "execution_count": null,
   "id": "481e8fc4",
   "metadata": {},
   "outputs": [],
   "source": [
    "from flask import Flask\n",
    "app = Flask(__name__)\n",
    "\n",
    "@app.route('/')\n",
    "def home():\n",
    "    return \"Bienvenido a Flask\"\n",
    "\n",
    "# Guardar este código en app.py y ejecutar con:\n",
    "# python app.py\n"
   ]
  },
  {
   "cell_type": "markdown",
   "id": "f31c49d7",
   "metadata": {},
   "source": [
    "## 🔹 Rutas con parámetros dinámicos"
   ]
  },
  {
   "cell_type": "code",
   "execution_count": null,
   "id": "5231548b",
   "metadata": {},
   "outputs": [],
   "source": [
    "@app.route('/usuario/<nombre>')\n",
    "def usuario(nombre):\n",
    "    return f'Hola, {nombre}!'\n"
   ]
  },
  {
   "cell_type": "markdown",
   "id": "7c17f63a",
   "metadata": {},
   "source": [
    "## 🔹 Templates con Jinja2"
   ]
  },
  {
   "cell_type": "code",
   "execution_count": null,
   "id": "750f63c8",
   "metadata": {},
   "outputs": [],
   "source": [
    "from flask import render_template\n",
    "\n",
    "# Estructura recomendada:\n",
    "# templates/\n",
    "#   └── saludo.html\n",
    "\n",
    "@app.route('/saludo')\n",
    "def saludo():\n",
    "    return render_template('saludo.html', nombre='Juan')\n"
   ]
  },
  {
   "cell_type": "markdown",
   "id": "d594789c",
   "metadata": {},
   "source": [
    "## 🔹 Formularios HTML (GET/POST)"
   ]
  },
  {
   "cell_type": "code",
   "execution_count": null,
   "id": "4f007f43",
   "metadata": {},
   "outputs": [],
   "source": [
    "from flask import request\n",
    "\n",
    "@app.route('/formulario', methods=['GET', 'POST'])\n",
    "def formulario():\n",
    "    if request.method == 'POST':\n",
    "        nombre = request.form['nombre']\n",
    "        return f'Hola {nombre}!'\n",
    "    return '''\n",
    "        <form method=\"post\">\n",
    "            Nombre: <input type=\"text\" name=\"nombre\">\n",
    "            <input type=\"submit\">\n",
    "        </form>\n",
    "    '''\n"
   ]
  },
  {
   "cell_type": "markdown",
   "id": "5ab2b113",
   "metadata": {},
   "source": [
    "## 🔹 Archivos estáticos (CSS, JS, imágenes)"
   ]
  },
  {
   "cell_type": "code",
   "execution_count": null,
   "id": "8acd6511",
   "metadata": {},
   "outputs": [],
   "source": [
    "# Crear carpeta static/\n",
    "# Incluir archivos como style.css, script.js, logo.png\n",
    "\n",
    "# En HTML:\n",
    "# <link rel=\"stylesheet\" href=\"{{ url_for('static', filename='style.css') }}\">\n",
    "# <img src=\"{{ url_for('static', filename='logo.png') }}\">"
   ]
  },
  {
   "cell_type": "markdown",
   "id": "4713227c",
   "metadata": {},
   "source": [
    "## 🔹 Redirecciones y mensajes flash"
   ]
  },
  {
   "cell_type": "code",
   "execution_count": null,
   "id": "9b990787",
   "metadata": {},
   "outputs": [],
   "source": [
    "from flask import redirect, url_for, flash, session\n",
    "\n",
    "app.secret_key = 'clave-secreta'\n",
    "\n",
    "@app.route('/login', methods=['POST'])\n",
    "def login():\n",
    "    usuario = request.form['usuario']\n",
    "    if usuario == 'admin':\n",
    "        flash('Bienvenido, admin!')\n",
    "        return redirect(url_for('home'))\n",
    "    flash('Usuario incorrecto')\n",
    "    return redirect(url_for('login'))\n"
   ]
  },
  {
   "cell_type": "markdown",
   "id": "f4690adc",
   "metadata": {},
   "source": [
    "## 🔹 Manejo de sesiones"
   ]
  },
  {
   "cell_type": "code",
   "execution_count": null,
   "id": "9a609fd6",
   "metadata": {},
   "outputs": [],
   "source": [
    "@app.route('/set_sesion')\n",
    "def set_sesion():\n",
    "    session['usuario'] = 'admin'\n",
    "    return 'Sesión establecida'\n",
    "\n",
    "@app.route('/get_sesion')\n",
    "def get_sesion():\n",
    "    return f\"Usuario en sesión: {session.get('usuario')}\"\n"
   ]
  },
  {
   "cell_type": "markdown",
   "id": "3af47894",
   "metadata": {},
   "source": [
    "## 🔹 Estructura modular con Blueprint"
   ]
  },
  {
   "cell_type": "code",
   "execution_count": null,
   "id": "61ad39bf",
   "metadata": {},
   "outputs": [],
   "source": [
    "# estructura:\n",
    "# - app.py\n",
    "# - usuarios/\n",
    "#   └── routes.py\n",
    "\n",
    "# En routes.py\n",
    "from flask import Blueprint\n",
    "\n",
    "usuarios_bp = Blueprint('usuarios', __name__)\n",
    "\n",
    "@usuarios_bp.route('/perfil')\n",
    "def perfil():\n",
    "    return 'Perfil de usuario'\n",
    "\n",
    "# En app.py\n",
    "# from usuarios.routes import usuarios_bp\n",
    "# app.register_blueprint(usuarios_bp, url_prefix='/usuarios')\n"
   ]
  },
  {
   "cell_type": "markdown",
   "id": "e00e4b66",
   "metadata": {},
   "source": [
    "## 🔹 Base de datos con SQLAlchemy"
   ]
  },
  {
   "cell_type": "code",
   "execution_count": null,
   "id": "eaeffd09",
   "metadata": {},
   "outputs": [],
   "source": [
    "from flask_sqlalchemy import SQLAlchemy\n",
    "\n",
    "app.config['SQLALCHEMY_DATABASE_URI'] = 'sqlite:///db.sqlite3'\n",
    "db = SQLAlchemy(app)\n",
    "\n",
    "class Usuario(db.Model):\n",
    "    id = db.Column(db.Integer, primary_key=True)\n",
    "    nombre = db.Column(db.String(50))\n",
    "\n",
    "# db.create_all() para crear las tablas\n"
   ]
  },
  {
   "cell_type": "markdown",
   "id": "b89ba2b0",
   "metadata": {},
   "source": [
    "## 🔹 API REST con Flask"
   ]
  },
  {
   "cell_type": "code",
   "execution_count": null,
   "id": "958a8400",
   "metadata": {},
   "outputs": [],
   "source": [
    "from flask import jsonify\n",
    "\n",
    "@app.route('/api/usuarios')\n",
    "def api_usuarios():\n",
    "    usuarios = Usuario.query.all()\n",
    "    return jsonify([{'id': u.id, 'nombre': u.nombre} for u in usuarios])\n"
   ]
  },
  {
   "cell_type": "markdown",
   "id": "02f885d5",
   "metadata": {},
   "source": [
    "---\n",
    "\n",
    "## 🎯 Conclusiones\n",
    "\n",
    "Flask es poderoso y flexible, ideal para proyectos pequeños o grandes. Desde una aplicación web sencilla hasta APIs REST completas, su modularidad y comunidad lo hacen una excelente opción para desarrolladores Python.\n",
    "\n",
    "Puedes seguir explorando:\n",
    "- Flask-Login\n",
    "- Flask-Migrate\n",
    "- Flask-RESTful\n",
    "- Flask-WTF\n",
    "\n",
    "¡Sigue practicando y construyendo! 💻🔥\n"
   ]
  }
 ],
 "metadata": {
  "language_info": {
   "name": "python"
  }
 },
 "nbformat": 4,
 "nbformat_minor": 5
}
