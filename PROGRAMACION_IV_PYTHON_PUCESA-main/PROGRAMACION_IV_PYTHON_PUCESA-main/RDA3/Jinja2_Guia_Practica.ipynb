{
 "cells": [
  {
   "cell_type": "markdown",
   "id": "8f20b73b",
   "metadata": {},
   "source": [
    "# 🌟 Introducción a Jinja2 con Flask\n",
    "\n",
    "**Jinja2** es el motor de plantillas que utiliza Flask para generar contenido HTML dinámico. Este notebook explica su sintaxis y cómo se integra con Flask paso a paso.\n",
    "\n",
    "---\n",
    "\n",
    "## 🧠 ¿Qué es Jinja2?\n",
    "\n",
    "Jinja2 permite insertar datos de Python dentro de un archivo HTML mediante el uso de:\n",
    "\n",
    "- `{{ ... }}` para insertar variables.\n",
    "- `{% ... %}` para estructuras de control (condicionales, bucles, etc.).\n",
    "- `{# ... #}` para comentarios.\n",
    "\n",
    "---"
   ]
  },
  {
   "cell_type": "markdown",
   "id": "2a8f2adf",
   "metadata": {},
   "source": [
    "## 🔹 Mostrar variables con `{{ variable }}`"
   ]
  },
  {
   "cell_type": "code",
   "execution_count": null,
   "id": "f3fb4354",
   "metadata": {},
   "outputs": [],
   "source": [
    "# HTML (templates/ejemplo.html)\n",
    "'''\n",
    "<h1>Hola {{ nombre }}</h1>\n",
    "'''\n",
    "\n",
    "# Flask\n",
    "from flask import Flask, render_template\n",
    "app = Flask(__name__)\n",
    "\n",
    "@app.route('/saludo')\n",
    "def saludo():\n",
    "    return render_template('ejemplo.html', nombre='Juan')\n"
   ]
  },
  {
   "cell_type": "markdown",
   "id": "d46adeeb",
   "metadata": {},
   "source": [
    "## 🔹 Condicionales `{% if %}`"
   ]
  },
  {
   "cell_type": "code",
   "execution_count": null,
   "id": "dfbd0139",
   "metadata": {},
   "outputs": [],
   "source": [
    "# HTML\n",
    "'''\n",
    "{% if edad >= 18 %}\n",
    "  <p>Eres mayor de edad</p>\n",
    "{% else %}\n",
    "  <p>Eres menor de edad</p>\n",
    "{% endif %}\n",
    "'''\n",
    "\n",
    "# Flask\n",
    "@app.route('/edad/<int:edad>')\n",
    "def verificar_edad(edad):\n",
    "    return render_template('edad.html', edad=edad)\n"
   ]
  },
  {
   "cell_type": "markdown",
   "id": "6510bf49",
   "metadata": {},
   "source": [
    "## 🔹 Bucles `{% for %}`"
   ]
  },
  {
   "cell_type": "code",
   "execution_count": null,
   "id": "11c2643f",
   "metadata": {},
   "outputs": [],
   "source": [
    "# HTML\n",
    "'''\n",
    "<ul>\n",
    "{% for fruta in frutas %}\n",
    "  <li>{{ fruta }}</li>\n",
    "{% endfor %}\n",
    "</ul>\n",
    "'''\n",
    "\n",
    "# Flask\n",
    "@app.route('/frutas')\n",
    "def mostrar_frutas():\n",
    "    lista = ['Manzana', 'Banana', 'Pera']\n",
    "    return render_template('lista.html', frutas=lista)\n"
   ]
  },
  {
   "cell_type": "markdown",
   "id": "78cf7eff",
   "metadata": {},
   "source": [
    "## 🔹 Filtros: `| upper`, `| lower`, `| length`, etc."
   ]
  },
  {
   "cell_type": "code",
   "execution_count": null,
   "id": "f4c6e876",
   "metadata": {},
   "outputs": [],
   "source": [
    "# HTML\n",
    "'''\n",
    "<p>{{ nombre|upper }}</p>     <!-- JUAN -->\n",
    "<p>{{ lista|length }}</p>     <!-- 3 -->\n",
    "'''\n",
    "\n",
    "# Flask\n",
    "@app.route('/filtros')\n",
    "def filtros():\n",
    "    return render_template('filtros.html', nombre='juan', lista=[1, 2, 3])\n"
   ]
  },
  {
   "cell_type": "markdown",
   "id": "3c095660",
   "metadata": {},
   "source": [
    "## 🔹 Comentarios `{# ... #}`"
   ]
  },
  {
   "cell_type": "code",
   "execution_count": null,
   "id": "df55f2e4",
   "metadata": {},
   "outputs": [],
   "source": [
    "# HTML\n",
    "'''\n",
    "{# Este comentario no se muestra en el navegador #}\n",
    "<p>Esto sí se muestra</p>\n",
    "'''\n"
   ]
  },
  {
   "cell_type": "markdown",
   "id": "a966cbac",
   "metadata": {},
   "source": [
    "## 🔹 Uso de plantilla base: `{% extends %}` y `{% block %}`"
   ]
  },
  {
   "cell_type": "code",
   "execution_count": null,
   "id": "c5a8c8fd",
   "metadata": {},
   "outputs": [],
   "source": [
    "# base.html\n",
    "'''\n",
    "<!DOCTYPE html>\n",
    "<html>\n",
    "<head>\n",
    "    <title>{% block titulo %}Mi sitio{% endblock %}</title>\n",
    "</head>\n",
    "<body>\n",
    "    <div id=\"contenido\">\n",
    "        {% block contenido %}{% endblock %}\n",
    "    </div>\n",
    "</body>\n",
    "</html>\n",
    "'''\n",
    "\n",
    "# pagina.html\n",
    "'''\n",
    "{% extends 'base.html' %}\n",
    "\n",
    "{% block titulo %}Página de Inicio{% endblock %}\n",
    "\n",
    "{% block contenido %}\n",
    "  <p>Bienvenido a la página de inicio.</p>\n",
    "{% endblock %}\n",
    "'''\n"
   ]
  },
  {
   "cell_type": "markdown",
   "id": "9a3c932f",
   "metadata": {},
   "source": [
    "---\n",
    "\n",
    "## ✅ Conclusión\n",
    "\n",
    "Jinja2 permite crear aplicaciones web dinámicas separando claramente la lógica del backend y la presentación en HTML.\n",
    "\n",
    "### 🔁 Resumen rápido:\n",
    "- `{{ variable }}` → imprime variables\n",
    "- `{% for ... %}` / `{% if ... %}` → control de flujo\n",
    "- `{# comentario #}` → comentarios invisibles\n",
    "- `| filtro` → transformar valores\n",
    "- `{% extends %}` / `{% block %}` → herencia de plantillas\n",
    "\n",
    "Puedes combinar todo esto para construir interfaces web limpias, reutilizables y potentes en Flask.\n",
    "\n",
    "¡Practica y crea tu propio sistema web con plantillas dinámicas! 💻🔥\n"
   ]
  }
 ],
 "metadata": {},
 "nbformat": 4,
 "nbformat_minor": 5
}
