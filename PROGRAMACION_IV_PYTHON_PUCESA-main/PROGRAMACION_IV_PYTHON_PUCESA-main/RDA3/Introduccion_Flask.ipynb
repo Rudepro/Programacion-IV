{
 "cells": [
  {
   "cell_type": "markdown",
   "id": "e59119d3",
   "metadata": {},
   "source": [
    "# 🐍 Introducción a Flask con Python\n",
    "\n",
    "Este notebook te enseñará los fundamentos de Flask, un microframework para construir aplicaciones web con Python. Veremos cómo crear una aplicación básica, rutas, plantillas y más.\n",
    "\n",
    "---"
   ]
  },
  {
   "cell_type": "code",
   "execution_count": null,
   "id": "096c1556",
   "metadata": {},
   "outputs": [],
   "source": [
    "# 📦 Instalar Flask\n",
    "!pip install flask"
   ]
  },
  {
   "cell_type": "markdown",
   "id": "db289d6d",
   "metadata": {},
   "source": [
    "## 🚀 Primer Servidor Flask\n",
    "\n",
    "Creamos una aplicación básica con una sola ruta."
   ]
  },
  {
   "cell_type": "code",
   "execution_count": null,
   "id": "b1c438bd",
   "metadata": {},
   "outputs": [],
   "source": [
    "from flask import Flask\n",
    "\n",
    "app = Flask(__name__)\n",
    "\n",
    "@app.route(\"/\")\n",
    "def home():\n",
    "    return \"¡Hola desde Flask!\"\n",
    "\n",
    "# ⚠️ Ejecuta esto desde un archivo .py, no se ejecutará en Jupyter directamente.\n",
    "# app.run(debug=True)\n"
   ]
  },
  {
   "cell_type": "markdown",
   "id": "a33cceb2",
   "metadata": {},
   "source": [
    "## 📄 Uso de Plantillas HTML (Jinja2)\n",
    "\n",
    "Flask permite usar plantillas HTML para separar la lógica del backend de la vista."
   ]
  },
  {
   "cell_type": "code",
   "execution_count": null,
   "id": "3e893930",
   "metadata": {},
   "outputs": [],
   "source": [
    "from flask import render_template\n",
    "\n",
    "# Suponiendo que tienes una carpeta llamada templates/ con index.html adentro\n",
    "@app.route(\"/bienvenida\")\n",
    "def bienvenida():\n",
    "    return render_template(\"index.html\")\n"
   ]
  },
  {
   "cell_type": "markdown",
   "id": "2dba93af",
   "metadata": {},
   "source": [
    "## 🔁 Rutas con Parámetros\n",
    "\n",
    "Puedes capturar valores directamente desde la URL."
   ]
  },
  {
   "cell_type": "code",
   "execution_count": null,
   "id": "6080b36f",
   "metadata": {},
   "outputs": [],
   "source": [
    "@app.route(\"/saludo/<nombre>\")\n",
    "def saludo(nombre):\n",
    "    return f\"Hola {nombre}, bienvenido a Flask\"\n"
   ]
  },
  {
   "cell_type": "markdown",
   "id": "bb4ea564",
   "metadata": {},
   "source": [
    "## 📬 Formularios en Flask (GET/POST)\n",
    "\n",
    "Usamos el módulo `request` para capturar datos enviados desde el navegador."
   ]
  },
  {
   "cell_type": "code",
   "execution_count": null,
   "id": "e693d498",
   "metadata": {},
   "outputs": [],
   "source": [
    "from flask import request\n",
    "\n",
    "@app.route('/formulario', methods=['GET', 'POST'])\n",
    "def formulario():\n",
    "    if request.method == 'POST':\n",
    "        nombre = request.form.get('nombre')\n",
    "        return f'Hola, {nombre}!'\n",
    "    return '''\n",
    "        <form method=\"post\">\n",
    "            Nombre: <input type=\"text\" name=\"nombre\">\n",
    "            <input type=\"submit\" value=\"Enviar\">\n",
    "        </form>\n",
    "    '''\n"
   ]
  },
  {
   "cell_type": "markdown",
   "id": "b4fe5344",
   "metadata": {},
   "source": [
    "## ✅ Notas Finales\n",
    "\n",
    "- Flask no puede ejecutarse directamente desde Jupyter. Guarda tu código en un archivo `.py` y ejecútalo desde la terminal con `python app.py`.\n",
    "- Usa `debug=True` solo en desarrollo.\n",
    "- Usa `render_template` con archivos HTML dentro de la carpeta `templates/`.\n",
    "\n",
    "---\n",
    "\n",
    "🎓 Ahora puedes expandir esto a rutas dinámicas, gráficos, bases de datos, APIs REST y más."
   ]
  }
 ],
 "metadata": {},
 "nbformat": 4,
 "nbformat_minor": 5
}
