{
 "cells": [
  {
   "cell_type": "markdown",
   "id": "84ccde59",
   "metadata": {},
   "source": [
    "\n",
    "# 🧠 Ejercicio 2: Sistema de Registro Académico\n",
    "\n",
    "## 🎯 Objetivo:\n",
    "Crear una aplicación en Python que permita registrar estudiantes, asignar calificaciones por materia y consultar el estado académico del estudiante.\n",
    "\n",
    "## 📝 Funcionalidades:\n",
    "- Registrar estudiante (nombre, matrícula, carrera).\n",
    "- Asignar calificación por materia a un estudiante (materia, nota).\n",
    "- Mostrar información completa del estudiante (incluyendo sus notas).\n",
    "- Mostrar todos los estudiantes registrados.\n",
    "- Salir del sistema.\n",
    "\n",
    "## 📁 Estructura del proyecto sugerida:\n",
    "```\n",
    "registro_academico/\n",
    "├── main.py                  # Menú principal\n",
    "├── estudiante.py            # Clase Estudiante\n",
    "├── calificacion.py          # Clase Calificacion\n",
    "├── herramientas.py          # Funciones de validación y mensajes\n",
    "```\n"
   ]
  }
 ],
 "metadata": {},
 "nbformat": 4,
 "nbformat_minor": 5
}
