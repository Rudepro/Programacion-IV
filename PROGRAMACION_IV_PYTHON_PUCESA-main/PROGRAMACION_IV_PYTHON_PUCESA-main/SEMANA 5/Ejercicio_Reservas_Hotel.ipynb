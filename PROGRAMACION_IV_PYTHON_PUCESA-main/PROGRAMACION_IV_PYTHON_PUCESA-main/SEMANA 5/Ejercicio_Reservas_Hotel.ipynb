{
 "cells": [
  {
   "cell_type": "markdown",
   "id": "f3fb7f43",
   "metadata": {},
   "source": [
    "\n",
    "# 🧠 Ejercicio 1: Sistema de Gestión de Reservas de Hotel\n",
    "\n",
    "## 🎯 Objetivo:\n",
    "Desarrollar una aplicación en Python que permita registrar huéspedes, crear reservas y consultar información, aplicando programación orientada a objetos y modularización.\n",
    "\n",
    "## 📝 Funcionalidades:\n",
    "- Registrar nuevo huésped (nombre, cédula, correo electrónico).\n",
    "- Crear una reserva para un huésped existente (fecha de entrada, fecha de salida, tipo de habitación).\n",
    "- Mostrar todas las reservas realizadas.\n",
    "- Mostrar todos los huéspedes registrados.\n",
    "- Salir del sistema.\n",
    "\n",
    "## 📁 Estructura del proyecto sugerida:\n",
    "```\n",
    "hotel_reservas/\n",
    "├── main.py                # Menú principal\n",
    "├── huesped.py             # Clase Huesped\n",
    "├── reserva.py             # Clase Reserva\n",
    "├── utilidades.py          # Funciones de validación y utilidad\n",
    "```\n"
   ]
  }
 ],
 "metadata": {},
 "nbformat": 4,
 "nbformat_minor": 5
}
