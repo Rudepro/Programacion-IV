{
 "cells": [
  {
   "cell_type": "markdown",
   "id": "ea97bff2",
   "metadata": {},
   "source": [
    "## Ejercicio: Grafo de rutas entre ciudades\n",
    "\n",
    "### Enunciado\n",
    "\n",
    "Una empresa de transporte desea modelar un sistema de rutas entre ciudades para estimar los costos de viaje. El grafo se compone de las siguientes ciudades:\n",
    "\n",
    "- Quito\n",
    "- Ambato\n",
    "- Riobamba\n",
    "- Cuenca\n",
    "\n",
    "Y las rutas con sus respectivos costos (en USD):\n",
    "\n",
    "- Quito → Ambato: 10\n",
    "- Quito → Riobamba: 18\n",
    "- Ambato → Cuenca: 25\n",
    "- Riobamba → Cuenca: 20\n",
    "\n",
    "### Objetivo del estudiante\n",
    "\n",
    "1. Crear un grafo dirigido y ponderado con `networkx`.\n",
    "2. Representar el grafo visualmente.\n",
    "3. Mostrar los pesos de las rutas.\n",
    "4. Determinar el **camino más barato** entre Quito y Cuenca usando un algoritmo como `shortest_path` o `dijkstra_path`."
   ]
  },
  {
   "cell_type": "code",
   "execution_count": null,
   "id": "c5c45d5a",
   "metadata": {},
   "outputs": [],
   "source": [
    "# 💻 Comienza aquí tu solución\n",
    "import networkx as nx\n",
    "import matplotlib.pyplot as plt\n",
    "\n",
    "# Crear el grafo dirigido\n",
    "G = nx.DiGraph()\n",
    "\n",
    "# Añadir aristas con pesos\n",
    "G.add_edge('Quito', 'Ambato', weight=10)\n",
    "G.add_edge('Quito', 'Riobamba', weight=18)\n",
    "G.add_edge('Ambato', 'Cuenca', weight=25)\n",
    "G.add_edge('Riobamba', 'Cuenca', weight=20)\n",
    "\n",
    "# Dibujar el grafo\n",
    "pos = nx.spring_layout(G, seed=42)\n",
    "plt.figure(figsize=(8,5))\n",
    "nx.draw(G, pos, with_labels=True, node_color='lightblue', node_size=2000, font_size=14, arrows=True)\n",
    "labels = nx.get_edge_attributes(G, 'weight')\n",
    "nx.draw_networkx_edge_labels(G, pos, edge_labels=labels)\n",
    "plt.title(\"Grafo de rutas entre ciudades\")\n",
    "plt.axis('off')\n",
    "plt.show()\n",
    "\n",
    "# Encontrar el camino más barato desde Quito a Cuenca\n",
    "camino = nx.dijkstra_path(G, source='Quito', target='Cuenca')\n",
    "costo_total = nx.dijkstra_path_length(G, source='Quito', target='Cuenca')\n",
    "print(\"Camino más barato de Quito a Cuenca:\", camino)\n",
    "print(\"Costo total:\", costo_total)"
   ]
  },
  {
   "cell_type": "markdown",
   "id": "5fdcf3da",
   "metadata": {},
   "source": [
    "### Rúbrica de Evaluación (sobre 100 puntos)\n",
    "\n",
    "| Criterio                                              | Puntaje |\n",
    "|--------------------------------------------------------|---------|\n",
    "| Creación correcta del grafo dirigido                   | 20 pts  |\n",
    "| Asignación correcta de pesos a las aristas             | 20 pts  |\n",
    "| Visualización clara y ordenada del grafo               | 20 pts  |\n",
    "| Correcta obtención del camino más corto                | 20 pts  |\n",
    "| Comentarios y claridad del código                      | 10 pts  |\n",
    "| Explicación del contexto del modelo (aplicación real)  | 10 pts  |\n",
    "| **Total**                                              | **100** |"
   ]
  }
 ],
 "metadata": {
  "language_info": {
   "name": "python"
  }
 },
 "nbformat": 4,
 "nbformat_minor": 5
}
