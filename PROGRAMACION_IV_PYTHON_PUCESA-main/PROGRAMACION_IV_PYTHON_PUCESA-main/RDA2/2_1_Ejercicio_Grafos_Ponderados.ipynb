{
 "cells": [
  {
   "cell_type": "markdown",
   "metadata": {},
   "source": [
    "## Ejercicio: Grafo de rutas entre ciudades\n",
    "\n",
    "### Enunciado\n",
    "\n",
    "Una empresa de transporte desea modelar un sistema de rutas entre ciudades para estimar los costos de viaje. El grafo se compone de las siguientes ciudades:\n",
    "\n",
    "- Quito\n",
    "- Ambato\n",
    "- Riobamba\n",
    "- Cuenca\n",
    "\n",
    "Y las rutas con sus respectivos costos (en USD):\n",
    "\n",
    "- Quito → Ambato: 10\n",
    "- Quito → Riobamba: 18\n",
    "- Ambato → Cuenca: 25\n",
    "- Riobamba → Cuenca: 20\n",
    "\n",
    "### Objetivo del estudiante\n",
    "\n",
    "1. Crear un grafo dirigido y ponderado con `networkx`.\n",
    "2. Representar el grafo visualmente.\n",
    "3. Mostrar los pesos de las rutas.\n",
    "4. Determinar el **camino más barato** entre Quito y Cuenca usando un algoritmo como `shortest_path` o `dijkstra_path`."
   ]
  },
  {
   "cell_type": "markdown",
   "metadata": {},
   "source": [
    "### Rúbrica de Evaluación (sobre 100 puntos)\n",
    "\n",
    "| Criterio                                              | Puntaje |\n",
    "|--------------------------------------------------------|---------|\n",
    "| Creación correcta del grafo dirigido                   | 20 pts  |\n",
    "| Asignación correcta de pesos a las aristas             | 20 pts  |\n",
    "| Visualización clara y ordenada del grafo               | 20 pts  |\n",
    "| Correcta obtención del camino más corto                | 20 pts  |\n",
    "| Comentarios y claridad del código                      | 10 pts  |\n",
    "| Explicación del contexto del modelo (aplicación real)  | 10 pts  |\n",
    "| **Total**                                              | **100** |"
   ]
  }
 ],
 "metadata": {
  "kernelspec": {
   "display_name": "base",
   "language": "python",
   "name": "python3"
  },
  "language_info": {
   "codemirror_mode": {
    "name": "ipython",
    "version": 3
   },
   "file_extension": ".py",
   "mimetype": "text/x-python",
   "name": "python",
   "nbconvert_exporter": "python",
   "pygments_lexer": "ipython3",
   "version": "3.11.5"
  }
 },
 "nbformat": 4,
 "nbformat_minor": 5
}
