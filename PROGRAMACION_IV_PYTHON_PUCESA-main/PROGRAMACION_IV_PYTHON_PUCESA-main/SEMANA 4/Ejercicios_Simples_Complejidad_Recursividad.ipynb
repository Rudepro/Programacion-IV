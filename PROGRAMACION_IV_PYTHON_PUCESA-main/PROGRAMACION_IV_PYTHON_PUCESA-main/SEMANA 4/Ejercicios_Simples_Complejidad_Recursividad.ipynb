{
 "cells": [
  {
   "cell_type": "markdown",
   "id": "0b169968",
   "metadata": {},
   "source": [
    "# Ejercicios Simples de Complejidad, Eficiencia y Recursividad\n",
    "\n",
    "En este notebook se presentan tres ejercicios básicos para comprender los conceptos de:\n",
    "\n",
    "- **Eficiencia algorítmica** (comparación entre distintas soluciones)\n",
    "- **Búsqueda lineal**\n",
    "- **Recursividad**\n",
    "\n",
    "Cada bloque de código está comentado línea por línea para facilitar la comprensión.\n"
   ]
  },
  {
   "cell_type": "markdown",
   "id": "c53ec457",
   "metadata": {},
   "source": [
    "## 🟠 Ejercicio 1: Sumar números del 1 al 100 de dos formas\n",
    "\n",
    "Este ejercicio compara dos formas de sumar los números del 1 al 100:\n",
    "- Con un bucle (menos eficiente).\n",
    "- Con una fórmula matemática (más eficiente).\n"
   ]
  },
  {
   "cell_type": "code",
   "execution_count": null,
   "id": "b6f717db",
   "metadata": {},
   "outputs": [],
   "source": [
    "# Forma 1: usando un bucle for\n",
    "suma = 0  # Variable acumuladora\n",
    "for i in range(1, 101):  # Itera desde 1 hasta 100\n",
    "    suma += i  # Suma el valor de i a la variable suma\n",
    "print(\"Suma con bucle:\", suma)  # Muestra el resultado de la suma\n",
    "\n",
    "# Forma 2: usando la fórmula de la suma de los primeros n números\n",
    "# Fórmula: n(n+1)/2\n",
    "suma_formula = (100 * 101) // 2  # Aplicamos la fórmula directamente\n",
    "print(\"Suma con fórmula:\", suma_formula)  # Muestra el resultado\n",
    "\n",
    "# Explicación:\n",
    "# La primera opción es O(n), porque recorre todos los números.\n",
    "# La segunda opción es O(1), porque hace una operación matemática directa.\n"
   ]
  },
  {
   "cell_type": "markdown",
   "id": "367571f6",
   "metadata": {},
   "source": [
    "## 🟠 Ejercicio 2: Buscar un número en una lista pequeña\n",
    "\n",
    "Este ejercicio muestra cómo funciona una búsqueda lineal básica.\n"
   ]
  },
  {
   "cell_type": "code",
   "execution_count": null,
   "id": "0b12f63e",
   "metadata": {},
   "outputs": [],
   "source": [
    "# Lista de números\n",
    "numeros = [3, 5, 7, 9, 11]  # Lista donde se buscará un número\n",
    "encontrado = False  # Variable que indica si se encontró el número\n",
    "\n",
    "# Recorremos cada número de la lista\n",
    "for n in numeros:\n",
    "    if n == 9:  # Comprobamos si el número actual es el que buscamos\n",
    "        encontrado = True  # Si lo encontramos, cambiamos la variable\n",
    "        break  # Terminamos el bucle\n",
    "\n",
    "# Mostramos si se encontró el número\n",
    "print(\"¿Está el número 9?:\", encontrado)\n",
    "\n",
    "# Explicación:\n",
    "# Esta es una búsqueda lineal, con complejidad O(n),\n",
    "# ya que revisa uno por uno hasta encontrarlo.\n"
   ]
  },
  {
   "cell_type": "markdown",
   "id": "a5e18135",
   "metadata": {},
   "source": [
    "## 🟠 Ejercicio 3: Recursividad básica - contar hacia atrás\n",
    "\n",
    "Este ejercicio muestra cómo funciona una función recursiva que cuenta de 5 a 1.\n"
   ]
  },
  {
   "cell_type": "code",
   "execution_count": null,
   "id": "d2b29b9f",
   "metadata": {},
   "outputs": [],
   "source": [
    "# Función recursiva para contar hacia atrás\n",
    "def contar_atras(n):\n",
    "    if n == 0:  # Caso base: si n llega a 0, detenemos la recursión\n",
    "        return\n",
    "    print(n)  # Mostramos el número actual\n",
    "    contar_atras(n - 1)  # Llamamos nuevamente a la función con n-1\n",
    "\n",
    "# Llamamos a la función para contar desde 5\n",
    "contar_atras(5)\n",
    "\n",
    "# Explicación:\n",
    "# Esta función se llama a sí misma y va reduciendo n.\n",
    "# Cuando n llega a 0, se detiene.\n",
    "# Es un ejemplo simple de recursividad.\n"
   ]
  }
 ],
 "metadata": {},
 "nbformat": 4,
 "nbformat_minor": 5
}
