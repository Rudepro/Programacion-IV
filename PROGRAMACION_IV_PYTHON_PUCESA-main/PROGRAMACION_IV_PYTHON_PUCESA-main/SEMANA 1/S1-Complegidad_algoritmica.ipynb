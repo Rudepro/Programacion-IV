{
 "cells": [
  {
   "cell_type": "markdown",
   "metadata": {},
   "source": [
    "# Ing. Edison Meneses Mg.\n",
    "<br>efmenesest@pucesa.edu.ec\n",
    "<br>0983506849\n",
    "# Semana 1 - Complejidad Algorítmica\n",
    "# 📘 Introducción a la Complejidad Algorítmica\n",
    "\n",
    "En el mundo de la programación y la informática, no basta con que un algoritmo funcione correctamente; también es fundamental que lo haga de manera eficiente. Aquí es donde entra en juego el concepto de complejidad algorítmica, una herramienta clave para analizar el rendimiento de los algoritmos en función del tiempo que tardan en ejecutarse o del espacio que utilizan en memoria.\n",
    "\n",
    "La complejidad algorítmica permite estimar cuánto crecerá el tiempo de ejecución o el uso de recursos a medida que aumenta el tamaño de la entrada del problema. Esta estimación se expresa comúnmente mediante la notación Big O (O-grande), que proporciona una forma estándar de describir el comportamiento asintótico del algoritmo, es decir, cómo se comporta cuando el tamaño de los datos tiende a crecer.\n",
    "\n",
    "Por ejemplo, si un algoritmo tiene una complejidad de O(n), significa que su tiempo de ejecución crecerá linealmente con el tamaño de los datos de entrada. En cambio, un algoritmo con complejidad O(1) se ejecuta en el mismo tiempo, sin importar cuántos datos procese. Otros niveles comunes incluyen O(n^2) (cuadrática), O(log n) (logarítmica) y O(n log n) (lineal-logarítmica).\n",
    "\n",
    "Estudiar la complejidad algorítmica permite a los desarrolladores:\n",
    "\n",
    "    Comparar diferentes soluciones a un mismo problema.\n",
    "\n",
    "    Identificar cuellos de botella en sus programas.\n",
    "\n",
    "    Tomar decisiones informadas sobre qué estructuras y técnicas usar.\n",
    "\n",
    "En resumen, la complejidad algorítmica no solo nos ayuda a crear algoritmos correctos, sino también a crear algoritmos óptimos y escalables, que puedan ejecutarse eficientemente en el mundo real, donde los datos suelen ser grandes y los recursos limitados.\n",
    "\n",
    "![Texto alternativo](Grafica_complegidad_algoritmica.png)\n",
    "\n",
    "\n",
    "Aquí tienes la gráfica comparativa de las principales complejidades algorítmicas. Te permite visualizar cómo crecen diferentes funciones en relación al tamaño de entrada n:\n",
    "\n",
    "    🔵 O(1): Constante – no cambia con el tamaño del problema.\n",
    "    🟢 O(log n): Crece lentamente – ideal para búsquedas rápidas (como búsqueda binaria).\n",
    "    🟡 O(n): Lineal – crece proporcional al tamaño de entrada.\n",
    "    🟠 O(n log n): Usado en algoritmos eficientes de ordenamiento como Merge Sort.\n",
    "    🔴 O(n²): Cuadrática – se vuelve lenta con muchos datos (como burbuja).\n",
    "    ⚫ O(2ⁿ): Exponencial – se vuelve impracticable rápidamente.\n",
    "\n"
   ]
  },
  {
   "cell_type": "markdown",
   "metadata": {},
   "source": [
    "# 🧠 Ejemplos prácticos de complejidad algorítmica con if, while, y for"
   ]
  },
  {
   "cell_type": "markdown",
   "metadata": {},
   "source": [
    "## 1. if – Complejidad O(1) (Constante)"
   ]
  },
  {
   "cell_type": "code",
   "execution_count": 19,
   "metadata": {},
   "outputs": [
    {
     "name": "stdout",
     "output_type": "stream",
     "text": [
      "Par\n"
     ]
    }
   ],
   "source": [
    "# Solo una condición se evalúa, sin importar el tamaño de la entrada\n",
    "\n",
    "def verificar_par(n):\n",
    "    if n % 2 == 0:\n",
    "        return \"Par\"\n",
    "    else:\n",
    "        return \"Impar\"\n",
    "\n",
    "# Solo se ejecuta una vez\n",
    "print(verificar_par(10))  # O(1)\n"
   ]
  },
  {
   "cell_type": "markdown",
   "metadata": {},
   "source": [
    "✅ Complejidad: O(1) – siempre hace una sola evaluación."
   ]
  },
  {
   "cell_type": "markdown",
   "metadata": {},
   "source": [
    "# -----------------"
   ]
  },
  {
   "cell_type": "markdown",
   "metadata": {},
   "source": [
    "## 2. for – Complejidad O(n) (Lineal)"
   ]
  },
  {
   "cell_type": "code",
   "execution_count": 20,
   "metadata": {},
   "outputs": [
    {
     "name": "stdout",
     "output_type": "stream",
     "text": [
      "1\n",
      "2\n",
      "3\n",
      "4\n",
      "5\n"
     ]
    }
   ],
   "source": [
    "# Recorre una lista una vez\n",
    "\n",
    "def imprimir_lista(lista):\n",
    "    for elemento in lista:\n",
    "        print(elemento)\n",
    "\n",
    "# Si hay n elementos, hace n impresiones\n",
    "imprimir_lista([1, 2, 3, 4, 5])  # O(n)\n"
   ]
  },
  {
   "cell_type": "markdown",
   "metadata": {},
   "source": [
    "✅ Complejidad: O(n) – depende del tamaño de la lista."
   ]
  },
  {
   "cell_type": "markdown",
   "metadata": {},
   "source": [
    "# -----------------"
   ]
  },
  {
   "cell_type": "markdown",
   "metadata": {},
   "source": [
    "## 3. while – Complejidad O(n) (Lineal)"
   ]
  },
  {
   "cell_type": "code",
   "execution_count": 21,
   "metadata": {},
   "outputs": [
    {
     "name": "stdout",
     "output_type": "stream",
     "text": [
      "5\n",
      "4\n",
      "3\n",
      "2\n",
      "1\n"
     ]
    }
   ],
   "source": [
    "# Hace una cuenta regresiva hasta llegar a 0\n",
    "\n",
    "def cuenta_regresiva(n):\n",
    "    while n > 0:\n",
    "        print(n)\n",
    "        n -= 1\n",
    "\n",
    "cuenta_regresiva(5)  # O(n)\n"
   ]
  },
  {
   "cell_type": "markdown",
   "metadata": {},
   "source": [
    "✅ Complejidad: O(n) – número de repeticiones depende del valor inicial."
   ]
  },
  {
   "cell_type": "markdown",
   "metadata": {},
   "source": [
    "# -----------------"
   ]
  },
  {
   "cell_type": "markdown",
   "metadata": {},
   "source": [
    "## 4. for anidado – Complejidad O(n²) (Cuadrática)"
   ]
  },
  {
   "cell_type": "code",
   "execution_count": 22,
   "metadata": {},
   "outputs": [
    {
     "data": {
      "text/plain": [
       "True"
      ]
     },
     "execution_count": 22,
     "metadata": {},
     "output_type": "execute_result"
    }
   ],
   "source": [
    "# Compara cada elemento con los demás\n",
    "\n",
    "def buscar_duplicados(lista):\n",
    "    for i in range(len(lista)):\n",
    "        for j in range(i + 1, len(lista)):\n",
    "            if lista[i] == lista[j]:\n",
    "                return True\n",
    "    return False\n",
    "\n",
    "buscar_duplicados([1, 2, 3, 4, 1])  # O(n²)\n"
   ]
  },
  {
   "cell_type": "markdown",
   "metadata": {},
   "source": [
    "✅ Complejidad: O(n²) – dos ciclos anidados aumentan rápidamente el tiempo de ejecución."
   ]
  },
  {
   "cell_type": "markdown",
   "metadata": {},
   "source": [
    "# -----------------"
   ]
  },
  {
   "cell_type": "markdown",
   "metadata": {},
   "source": [
    "![Texto alternativo](COMPLEJIDAD_IF_FOR_WHILE.png)\n",
    "\n",
    "Gráfica que muestra cómo varía la complejidad algorítmica dependiendo de la estructura de control:\n",
    "\n",
    "    if: ejecuta una sola operación, sin importar el tamaño de entrada (O(1)).\n",
    "    for y while: crecen linealmente con n (O(n)).\n",
    "    for anidado: el número de operaciones crece rápidamente al cuadrado (O(n²))."
   ]
  },
  {
   "cell_type": "markdown",
   "metadata": {},
   "source": [
    "# -----------------"
   ]
  },
  {
   "cell_type": "markdown",
   "metadata": {},
   "source": [
    "# 🔍 Explicación de complejidad algorítmica\n",
    "\n",
    "    suma_iterativa(n) recorre todos los números desde 1 hasta n, haciendo una suma en cada paso.\n",
    "        👉 Complejidad: O(n) (lineal), ya que crece proporcional al tamaño de n.\n",
    "\n",
    "    suma_formula(n) utiliza una fórmula matemática conocida.\n",
    "        👉 Complejidad: O(1) (constante), porque solo realiza una operación sin importar el valor de n."
   ]
  },
  {
   "cell_type": "code",
   "execution_count": 23,
   "metadata": {},
   "outputs": [
    {
     "name": "stdout",
     "output_type": "stream",
     "text": [
      "Suma iterativa: 55\n",
      "Suma con fórmula: 55\n"
     ]
    }
   ],
   "source": [
    "# Este programa suma los primeros N números naturales\n",
    "# usando dos métodos diferentes para analizar su complejidad algorítmica.\n",
    "\n",
    "# Método 1: Suma usando un bucle (complejidad O(n))\n",
    "def suma_iterativa(n):\n",
    "    suma = 0\n",
    "    for i in range(1, n + 1):\n",
    "        suma += i  # Se realiza una suma por cada iteración\n",
    "    return suma\n",
    "\n",
    "# Método 2: Suma usando fórmula matemática (complejidad O(1))\n",
    "def suma_formula(n):\n",
    "    return n * (n + 1) // 2  # Una sola operación matemática\n",
    "\n",
    "# Probamos ambos métodos\n",
    "n = 10\n",
    "print(\"Suma iterativa:\", suma_iterativa(n))  # Resultado esperado: 55\n",
    "print(\"Suma con fórmula:\", suma_formula(n))  # Resultado esperado: 55\n"
   ]
  },
  {
   "cell_type": "markdown",
   "metadata": {},
   "source": [
    "# 💬 Reflexión 1:\n",
    "\n",
    "## ¿Cuál método sería mejor si n fuera un número muy grande, como 1,000,000?\n",
    "\n",
    "✅ Respuesta:\n",
    "El método de la fórmula (suma_formula) sería mucho mejor en este caso. Esto se debe a que realiza solo una operación matemática, sin importar el tamaño de n. Por lo tanto, incluso si n fuera un millón o un billón, el tiempo de ejecución seguiría siendo el mismo (constante).\n",
    "💬 Reflexión 2:\n",
    "\n",
    "## ¿Por qué crees que la eficiencia importa en problemas reales?\n",
    "\n",
    "✅ Respuesta:\n",
    "La eficiencia es crucial en problemas reales porque permite que los programas:\n",
    "\n",
    "    ⏱️ Se ejecuten más rápido, especialmente cuando se manejan grandes volúmenes de datos.\n",
    "\n",
    "    💻 Usen menos recursos del sistema (memoria, CPU), lo que mejora el rendimiento general.\n",
    "\n",
    "    🌍 Sean más escalables y puedan ejecutarse en múltiples dispositivos o entornos con diferentes capacidades.\n",
    "\n",
    "Un algoritmo ineficiente puede hacer que un programa sea inútil en la práctica, incluso si es correcto."
   ]
  },
  {
   "cell_type": "markdown",
   "metadata": {},
   "source": [
    "# --------------------------------------"
   ]
  },
  {
   "cell_type": "markdown",
   "metadata": {},
   "source": [
    "# 🧠 Ejercicio: ¿Existe un número duplicado en una lista?\n",
    "\n",
    "Vamos a resolver este problema de dos formas: una con complejidad cuadrática (O(n²)) y otra con complejidad lineal (O(n))."
   ]
  },
  {
   "cell_type": "code",
   "execution_count": 24,
   "metadata": {},
   "outputs": [],
   "source": [
    "# ✅ Método 1: Comparación de cada elemento con los demás (fuerza bruta)\n",
    "# Complejidad: O(n^2)\n",
    "\n",
    "def tiene_duplicados_bruto(lista):\n",
    "    for i in range(len(lista)):\n",
    "        for j in range(i + 1, len(lista)):\n",
    "            if lista[i] == lista[j]:\n",
    "                return True  # Se encontró un duplicado\n",
    "    return False  # No se encontraron duplicados\n",
    "\n",
    "# ✅ Método 2: Uso de un conjunto (set) para detectar duplicados\n",
    "# Complejidad: O(n)\n",
    "\n",
    "def tiene_duplicados_set(lista):\n",
    "    elementos_vistos = set()\n",
    "    for elemento in lista:\n",
    "        if elemento in elementos_vistos:\n",
    "            return True  # Se encontró un duplicado\n",
    "        elementos_vistos.add(elemento)\n",
    "    return False  # No hay duplicados\n"
   ]
  },
  {
   "cell_type": "markdown",
   "metadata": {},
   "source": [
    "🧪 Prueba de ambos métodos"
   ]
  },
  {
   "cell_type": "code",
   "execution_count": 25,
   "metadata": {},
   "outputs": [
    {
     "name": "stdout",
     "output_type": "stream",
     "text": [
      "Método fuerza bruta: True\n",
      "Método con set: True\n"
     ]
    }
   ],
   "source": [
    "lista_prueba = [3, 7, 1, 9, 3]\n",
    "\n",
    "print(\"Método fuerza bruta:\", tiene_duplicados_bruto(lista_prueba))  # True\n",
    "print(\"Método con set:\", tiene_duplicados_set(lista_prueba))        # True\n"
   ]
  },
  {
   "cell_type": "markdown",
   "metadata": {},
   "source": [
    "📊 Comparación de complejidades\n",
    "Método\tComplejidad\tDescripción\n",
    "tiene_duplicados_bruto\tO(n²)\tCompara todos contra todos\n",
    "tiene_duplicados_set\tO(n)\tUsa memoria adicional para hacerlo más rápido"
   ]
  },
  {
   "cell_type": "markdown",
   "metadata": {},
   "source": [
    "# 💬 Reflexión 2:\n",
    "\n",
    "## ¿Es correcto decir que un algoritmo es \"mejor\" solo porque usa menos líneas de código?\n",
    "\n",
    "✅ Respuesta:\n",
    "No necesariamente. Un algoritmo con pocas líneas puede ser menos eficiente si tiene una alta complejidad. Lo importante es analizar qué tan bien se comporta con grandes cantidades de datos, no solo si es corto o \"bonito\". La claridad y la eficiencia deben ir de la mano.\n",
    "💬 Reflexión 3:\n",
    "\n",
    "## ¿Cuándo sería útil sacrificar tiempo por memoria, o viceversa?\n",
    "\n",
    "✅ Respuesta:\n",
    "\n",
    "    Si estamos en un sistema con poca memoria (como un dispositivo embebido), puede ser necesario usar un algoritmo más lento pero que consuma menos memoria.\n",
    "\n",
    "    Si el tiempo de respuesta es crítico (por ejemplo, en sistemas en tiempo real), conviene usar más memoria para obtener resultados más rápidos.\n",
    "\n",
    "🔁 Ejemplo concreto:\n",
    "El método con set usa más memoria (porque guarda los elementos vistos), pero es más rápido. El método de fuerza bruta usa menos memoria, pero es mucho más lento en listas grandes."
   ]
  }
 ],
 "metadata": {
  "kernelspec": {
   "display_name": "Python 3",
   "language": "python",
   "name": "python3"
  },
  "language_info": {
   "codemirror_mode": {
    "name": "ipython",
    "version": 3
   },
   "file_extension": ".py",
   "mimetype": "text/x-python",
   "name": "python",
   "nbconvert_exporter": "python",
   "pygments_lexer": "ipython3",
   "version": "3.12.1"
  }
 },
 "nbformat": 4,
 "nbformat_minor": 2
}
