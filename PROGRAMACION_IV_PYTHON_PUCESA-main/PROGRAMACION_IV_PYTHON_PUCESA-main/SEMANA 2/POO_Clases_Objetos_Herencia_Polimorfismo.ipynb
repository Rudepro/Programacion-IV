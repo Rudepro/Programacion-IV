{
 "cells": [
  {
   "cell_type": "markdown",
   "id": "27c8adbf",
   "metadata": {},
   "source": [
    "# Programación Orientada a Objetos (POO) en Python\n",
    "\n",
    "Este notebook introduce los conceptos fundamentales de la Programación Orientada a Objetos (POO) en Python:\n",
    "\n",
    "- Clases\n",
    "- Objetos\n",
    "- Métodos y funciones\n",
    "- Atributos\n",
    "- Herencia\n",
    "- Polimorfismo\n",
    "\n",
    "Cada sección incluye teoría básica y un ejemplo práctico comentado.\n"
   ]
  },
  {
   "cell_type": "markdown",
   "id": "8ae206e2",
   "metadata": {},
   "source": [
    "## 🔸 Clases y Objetos\n",
    "\n",
    "Una **clase** es una plantilla para crear objetos. Un **objeto** es una instancia de una clase.\n",
    "\n",
    "### 📘 Ejemplo: Clase Persona\n"
   ]
  },
  {
   "cell_type": "code",
   "execution_count": 23,
   "id": "4c48ff4b",
   "metadata": {},
   "outputs": [
    {
     "name": "stdout",
     "output_type": "stream",
     "text": [
      "Hola, me llamo Edison y tengo 37 años.\n",
      "Hola, me llamo María y tengo 25 años.\n"
     ]
    }
   ],
   "source": [
    "# Definimos una CLASE llamada 'Persona'\n",
    "class Persona:\n",
    "    # Este es el CONSTRUCTOR de la clase. Se ejecuta automáticamente al crear un objeto.\n",
    "    # 'nombre' y 'edad' son PARÁMETROS que se reciben al crear la persona.\n",
    "    def __init__(self, nombre, edad):\n",
    "        self.nombre = nombre  # Atributo del objeto que guarda el nombre\n",
    "        self.edad = edad      # Atributo del objeto que guarda la edad\n",
    "\n",
    "    # Este es un MÉTODO de la clase. Los métodos son funciones que pertenecen a la clase.\n",
    "    # Siempre reciben 'self' como primer parámetro, que representa al propio objeto.\n",
    "    def saludar(self):\n",
    "        # Este método devuelve un texto usando los atributos del objeto\n",
    "        return f\"Hola, me llamo {self.nombre} y tengo {self.edad} años.\"\n",
    "\n",
    "\n",
    "# Creamos un OBJETO (una instancia) de la clase Persona.\n",
    "# Le pasamos dos argumentos: nombre=\"Edison\" y edad=37\n",
    "persona1 = Persona(\"Edison\", 37)\n",
    "persona2 = Persona(\"María\", 25)\n",
    "\n",
    "# Llamamos al MÉTODO 'saludar' del objeto 'persona1'\n",
    "# Este método usa los ATRIBUTOS 'nombre' y 'edad' para construir el mensaje\n",
    "print(persona1.saludar())  # Resultado: Hola, me llamo Edison y tengo 37 años.\n",
    "print(persona2.saludar())  # Resultado: Hola, me llamo María y tengo 25 años.\n"
   ]
  },
  {
   "cell_type": "markdown",
   "id": "32486a43",
   "metadata": {},
   "source": [
    "📘 Conceptos reforzados:\n",
    "\n",
    "|Concepto|\tExplicación|\n",
    "|--------|-------------|\n",
    "|Clase|\tPlantilla para crear objetos. En este caso, la clase es Persona.\n",
    "|Objeto|\tInstancia concreta de una clase, como persona1.\n",
    "|Atributo|\tVariables propias del objeto, definidas con self.nombre, self.edad.\n",
    "|Parámetro|\tValores que se pasan al constructor (nombre, edad) al crear el objeto.\n",
    "|Método|\tFunción definida dentro de la clase. Siempre recibe self como primer parámetro.\n",
    "|self|\tRepresenta al objeto mismo, permite acceder a sus atributos y métodos."
   ]
  },
  {
   "cell_type": "markdown",
   "id": "881349bf",
   "metadata": {},
   "source": [
    "___________"
   ]
  },
  {
   "cell_type": "markdown",
   "id": "4c2c5e29",
   "metadata": {},
   "source": [
    "## 🔸 Métodos y Funciones\n",
    "\n",
    "- **Método**: Función definida dentro de una clase y que usa `self`.\n",
    "- **Función**: Definida fuera de la clase y se usa de forma independiente.\n",
    "\n",
    "### 📘 Ejemplo:\n"
   ]
  },
  {
   "cell_type": "code",
   "execution_count": 6,
   "id": "2119c091",
   "metadata": {},
   "outputs": [
    {
     "name": "stdout",
     "output_type": "stream",
     "text": [
      "¿Es mayor de edad? True\n"
     ]
    }
   ],
   "source": [
    "def es_mayor_de_edad(edad):\n",
    "    return edad >= 18\n",
    "\n",
    "print(\"¿Es mayor de edad?\", es_mayor_de_edad(persona1.edad))  # Resultado: True\n"
   ]
  },
  {
   "cell_type": "code",
   "execution_count": 4,
   "id": "7c8e1d9a",
   "metadata": {},
   "outputs": [
    {
     "name": "stdout",
     "output_type": "stream",
     "text": [
      "4\n"
     ]
    },
    {
     "data": {
      "text/plain": [
       "2"
      ]
     },
     "execution_count": 4,
     "metadata": {},
     "output_type": "execute_result"
    }
   ],
   "source": [
    "def suma():\n",
    "    return 2 + 2\n",
    "\n",
    "print(suma())  \n",
    "\n",
    "def resta():\n",
    "    return 5 - 3\n",
    "\n",
    "resta()"
   ]
  },
  {
   "cell_type": "markdown",
   "id": "ad6b653c",
   "metadata": {},
   "source": [
    "## 🔸 Herencia\n",
    "\n",
    "La **herencia** permite crear una clase hija que hereda atributos y métodos de otra clase.\n",
    "\n",
    "### 📘 Ejemplo: Clase Estudiante que hereda de Persona\n"
   ]
  },
  {
   "cell_type": "code",
   "execution_count": 24,
   "id": "835787d9",
   "metadata": {},
   "outputs": [
    {
     "name": "stdout",
     "output_type": "stream",
     "text": [
      "Hola, me llamo Ana y tengo 21 años. Estudio Ingeniería de Software.\n"
     ]
    }
   ],
   "source": [
    "# Definimos la clase Estudiante que HEREDA de la clase Persona\n",
    "class Estudiante(Persona):\n",
    "    \n",
    "    # Constructor de la clase Estudiante\n",
    "    def __init__(self, nombre, edad, carrera):\n",
    "        # Llamamos al constructor de la clase base (Persona) usando super()\n",
    "        super().__init__(nombre, edad)\n",
    "        # Agregamos un nuevo atributo propio de la clase Estudiante\n",
    "        self.carrera = carrera\n",
    "\n",
    "    # Método propio de la clase Estudiante\n",
    "    def datos_completos(self):\n",
    "        # Usa el método saludar heredado de Persona y añade el atributo carrera\n",
    "        return f\"{self.saludar()} Estudio {self.carrera}.\"\n",
    "\n",
    "# Creamos un objeto 'est1' de la clase Estudiante\n",
    "est1 = Estudiante(\"Ana\", 21, \"Ingeniería de Software\")\n",
    "\n",
    "# Llamamos al método 'datos_completos' y mostramos el resultado\n",
    "print(est1.datos_completos())  # Salida esperada: \"Hola, me llamo Ana y tengo 21 años. Estudio Ingeniería de Software.\"\n",
    "\n"
   ]
  },
  {
   "cell_type": "markdown",
   "id": "df67bfa5",
   "metadata": {},
   "source": [
    "🧠 Explicación del concepto: Herencia\n",
    "\n",
    "📌 ¿Qué es la herencia?\n",
    "\n",
    "Es un mecanismo que permite que una clase (hija) herede atributos y métodos de otra clase (padre).\n",
    "🔍 En este ejemplo:\n",
    "\n",
    "* Persona es la clase padre (base).\n",
    "* Estudiante es la clase hija que hereda de Persona.\n",
    "* El constructor de Estudiante reutiliza el constructor de Persona con super().__init__(...).\n",
    "* La clase hija puede agregar nuevos atributos y métodos, como carrera y datos_completos().\n",
    "\n",
    "✅ ¿Qué ventajas ofrece?\n",
    "\n",
    "* Reutilización de código: no se repite el código de nombre, edad ni el método saludar().\n",
    "* Extensibilidad: se pueden crear nuevas clases (por ejemplo Docente, Administrativo) que también hereden de Persona."
   ]
  },
  {
   "cell_type": "markdown",
   "id": "7638184f",
   "metadata": {},
   "source": [
    "-------------"
   ]
  },
  {
   "cell_type": "markdown",
   "id": "4f1874d1",
   "metadata": {},
   "source": [
    "## 🔸 Polimorfismo\n",
    "\n",
    "El **polimorfismo** permite que diferentes clases usen el mismo método de forma distinta.\n",
    "\n",
    "### 📘 Ejemplo:\n"
   ]
  },
  {
   "cell_type": "code",
   "execution_count": 1,
   "id": "2dd447f2",
   "metadata": {},
   "outputs": [
    {
     "name": "stdout",
     "output_type": "stream",
     "text": [
      "Ladra\n",
      "Maulla\n",
      "Hace un sonido\n"
     ]
    }
   ],
   "source": [
    "# Definimos la clase base 'Animal'\n",
    "class Animal:\n",
    "    # Método que puede ser sobreescrito por las clases hijas\n",
    "    def hablar(self):\n",
    "        return \"Hace un sonido\"  # Comportamiento genérico para cualquier animal\n",
    "\n",
    "# Definimos la clase 'Perro', que hereda de 'Animal'\n",
    "class Perro(Animal):\n",
    "    # Sobrescribimos el método 'hablar' para que sea específico de los perros\n",
    "    def hablar(self):\n",
    "        return \"Ladra\"\n",
    "\n",
    "# Definimos la clase 'Gato', que también hereda de 'Animal'\n",
    "class Gato(Animal):\n",
    "    # Sobrescribimos el método 'hablar' para los gatos\n",
    "    def hablar(self):\n",
    "        return \"Maulla\"\n",
    "\n",
    "# Creamos una lista que contiene un objeto de cada clase\n",
    "animales = [Perro(), Gato(), Animal()]\n",
    "\n",
    "# Recorremos la lista y llamamos al método 'hablar' de cada objeto\n",
    "for animal in animales:\n",
    "    print(animal.hablar())  # Se ejecuta el método correspondiente según el tipo de objeto\n"
   ]
  },
  {
   "cell_type": "markdown",
   "id": "2a5a5355",
   "metadata": {},
   "source": [
    "🧠 Explicación global:\n",
    "📌 ¿Qué es el polimorfismo?\n",
    "\n",
    "El polimorfismo permite que distintas clases implementen un mismo método con comportamientos diferentes. En este caso:\n",
    "\n",
    "* Todos los objetos (Perro, Gato, Animal) tienen un método llamado hablar().\n",
    "* Aunque se llama al mismo método, cada clase tiene su propia versión del método.\n",
    "\n",
    "✅ ¿Qué muestra el código?\n",
    "\n",
    "La salida del programa será:\n",
    "\n",
    "    Ladra\n",
    "    Maulla\n",
    "    Hace un sonido\n",
    "\n",
    "Esto demuestra que:\n",
    "\n",
    "* Perro().hablar() ejecuta su propia versión: \"Ladra\".\n",
    "* Gato().hablar() ejecuta su versión: \"Maulla\".\n",
    "* Animal().hablar() usa la versión original: \"Hace un sonido\".\n",
    "\n",
    "💡 Ventaja:\n",
    "\n",
    "Puedes recorrer una lista de diferentes tipos de objetos y llamar al mismo método, y cada objeto responderá con su propio comportamiento. Esto permite escribir código más genérico, limpio y extensible."
   ]
  }
 ],
 "metadata": {
  "kernelspec": {
   "display_name": "base",
   "language": "python",
   "name": "python3"
  },
  "language_info": {
   "codemirror_mode": {
    "name": "ipython",
    "version": 3
   },
   "file_extension": ".py",
   "mimetype": "text/x-python",
   "name": "python",
   "nbconvert_exporter": "python",
   "pygments_lexer": "ipython3",
   "version": "3.11.5"
  }
 },
 "nbformat": 4,
 "nbformat_minor": 5
}
