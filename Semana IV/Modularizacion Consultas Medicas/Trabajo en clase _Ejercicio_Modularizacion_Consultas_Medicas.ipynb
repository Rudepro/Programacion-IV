{
 "cells": [
  {
   "cell_type": "markdown",
   "id": "d5ffc8cf",
   "metadata": {},
   "source": [
    "Ing. Edison Meneses Mg."
   ]
  },
  {
   "cell_type": "markdown",
   "metadata": {},
   "source": [
    "# 🧠 Ejercicio de Programación Orientada a Objetos en Python\n",
    "## 🩺 Sistema de Gestión de Consultas Médicas\n",
    "\n",
    "### 🎯 Objetivo:\n",
    "Desarrollar una aplicación en Python modularizada que permita registrar pacientes y sus consultas médicas. Se espera que el sistema esté dividido en múltiples archivos y que los estudiantes apliquen conceptos de clases, objetos, funciones y menú con bucles.\n",
    "\n",
    "---\n",
    "### 📝 Funcionalidades que debe tener el sistema:\n",
    "1. Registrar un nuevo paciente (nombre, cédula, edad, tipo de sangre).\n",
    "2. Registrar una consulta médica a un paciente existente (fecha, diagnóstico, tratamiento).\n",
    "3. Mostrar los datos completos de un paciente (incluyendo su historial de consultas).\n",
    "4. Mostrar todos los pacientes registrados.\n",
    "5. Salir del sistema.\n",
    "\n",
    "---\n",
    "### 🗂️ Estructura del proyecto sugerida\n",
    "\n",
    "```\n",
    "consultas_medicas/\n",
    "├── main.py              # Menú principal y flujo del programa\n",
    "├── paciente.py          # Clase Paciente\n",
    "└── funciones.py         # Funciones auxiliares (registrar, buscar, agregar, mostrar)\n",
    "```\n",
    "\n",
    "---\n",
    "### 📌 Sugerencias para desarrollar el sistema\n",
    "- Crear una clase `Paciente` que contenga los datos del paciente y una lista de consultas.\n",
    "- Cada consulta médica puede ser un diccionario con fecha, diagnóstico y tratamiento.\n",
    "- Usar funciones en `funciones.py` para registrar, buscar, mostrar pacientes.\n",
    "- Utilizar `main.py` para el menú principal y el flujo de ejecución con un bucle `while`.\n"
   ]
  },
  {
   "cell_type": "markdown",
   "metadata": {},
   "source": [
    "## 📏 Rúbrica de Evaluación (sobre 50 puntos)\n",
    "\n",
    "| Criterio | Descripción | Puntos |\n",
    "|----------|-------------|--------|\n",
    "| **1. Estructura del proyecto** | Usa correctamente los 3 archivos (clase, funciones, main) | **10 pts** |\n",
    "| **2. Implementación de clase** | Clase `Paciente` bien definida con atributos y métodos | **10 pts** |\n",
    "| **3. Registro de pacientes** | Funciona correctamente y permite ingresar nuevos pacientes | **5 pts** |\n",
    "| **4. Registro de consultas** | Permite agregar varias consultas a cada paciente | **5 pts** |\n",
    "| **5. Búsqueda y visualización** | Busca por cédula y muestra datos + historial correctamente | **5 pts** |\n",
    "| **6. Mostrar todos los pacientes** | Despliega correctamente la información de todos los registrados | **5 pts** |\n",
    "| **7. Menú funcional** | Presenta opciones claras y mantiene el programa activo hasta salir | **5 pts** |\n",
    "| **8. Legibilidad y organización** | Código limpio, con comentarios, nombres claros | **3 pts** |\n",
    "| **9. Validaciones básicas** | Manejo de errores como cédula repetida o entrada no válida | **2 pts** |\n",
    "\n",
    "**Total: 50 puntos**"
   ]
  },
  {
   "cell_type": "markdown",
   "metadata": {},
   "source": [
    "### 📄 Entregable Final\n",
    "\n",
    "Cada estudiante deberá entregar un **informe técnico** que describa el desarrollo del sistema solicitado. Este informe debe ser claro, redactado con sus propias palabras e incluir evidencia de funcionamiento.\n",
    "\n",
    "---\n",
    "## 📚 Estructura del Informe Técnico\n",
    "\n",
    "**1. Portada**\n",
    "- Nombre del estudiante\n",
    "- Nombre del curso\n",
    "- Nombre del docente\n",
    "- Fecha de entrega\n",
    "\n",
    "**2. Introducción**\n",
    "- Breve descripción del objetivo del proyecto\n",
    "- Explicación del contexto del sistema desarrollado\n",
    "\n",
    "**3. Desarrollo**\n",
    "- Descripción de la estructura del proyecto (archivos creados y su función)\n",
    "- Explicación del diseño de la clase `Paciente`\n",
    "- Descripción del funcionamiento del menú y las funciones\n",
    "- Capturas de pantalla de la ejecución (registro, consultas, menú funcionando)\n",
    "\n",
    "**4. Conclusiones**\n",
    "- Qué aprendió durante el desarrollo\n",
    "- Qué partes fueron más difíciles o interesantes\n",
    "- Posibles mejoras o nuevas funcionalidades\n",
    "\n",
    "**5. Anexos (opcional)**\n",
    "- Fragmentos de código relevantes\n",
    "- Observaciones adicionales\n",
    "\n",
    "---\n",
    "📌 **Importante:** El informe debe ser original y con redacción propia. Las capturas deben ser tomadas desde su ejecución real del programa."
   ]
  }
 ],
 "metadata": {
  "kernelspec": {
   "display_name": "Python 3",
   "language": "python",
   "name": "python3"
  },
  "language_info": {
   "name": "python",
   "version": "3.10"
  }
 },
 "nbformat": 4,
 "nbformat_minor": 5
}
