{
 "cells": [
  {
   "cell_type": "markdown",
   "id": "f51223aa",
   "metadata": {},
   "source": [
    "# Cambiar nombre de proyecto a `Nuevo Nombre` (GitHub + Local)"
   ]
  },
  {
   "cell_type": "markdown",
   "id": "0e0cb916",
   "metadata": {},
   "source": [
    "Este tutorial te guía paso a paso para renombrar un repositorio en GitHub y en tu máquina local usando el nuevo nombre **Nuevo Nombre**, sin romper el historial ni la sincronización remota."
   ]
  },
  {
   "cell_type": "markdown",
   "id": "4f4f4b1c",
   "metadata": {},
   "source": [
    "## 🔹 PASO 1: Cambiar nombre del repositorio en GitHub"
   ]
  },
  {
   "cell_type": "markdown",
   "id": "b2a55131",
   "metadata": {},
   "source": [
    "1. Ve a [https://github.com/fakeuser/proyecto-antiguo](https://github.com/fakeuser/proyecto-antiguo)  \n",
    "2. Haz clic en la pestaña **Settings**.  \n",
    "3. En **Repository name**, cambia a:\n",
    "```\n",
    "Nuevo Nombre\n",
    "```\n",
    "4. GitHub redirigirá automáticamente desde el anterior, pero debes actualizarlo en tu equipo local."
   ]
  },
  {
   "cell_type": "markdown",
   "id": "94843ac7",
   "metadata": {},
   "source": [
    "## 🔹 PASO 2: Verificar URL remota actual"
   ]
  },
  {
   "cell_type": "markdown",
   "id": "ca2e356c",
   "metadata": {},
   "source": [
    "```bash\n",
    "git remote -v"
   ]
  },
  {
   "cell_type": "markdown",
   "id": "a36237d6",
   "metadata": {},
   "source": [
    "Este comando te dirá la URL actual del repositorio remoto (`origin`)."
   ]
  },
  {
   "cell_type": "markdown",
   "id": "f08e2c2c",
   "metadata": {},
   "source": [
    "## 🔹 PASO 3: Cambiar URL remota al nuevo nombre"
   ]
  },
  {
   "cell_type": "markdown",
   "id": "e1dc6202",
   "metadata": {},
   "source": [
    "```bash\n",
    "git remote set-url origin https://github.com/fakeuser/Nuevo\\ Nombre.git\n",
    "git remote -v\n",
    "```\n"
   ]
  },
  {
   "cell_type": "markdown",
   "id": "3833d9ab",
   "metadata": {},
   "source": [
    "## 🔹 PASO 4: Renombrar carpeta local (opcional)"
   ]
  },
  {
   "cell_type": "markdown",
   "id": "74a48878",
   "metadata": {},
   "source": [
    "Se debe renombrar la carpeta localmente"
   ]
  },
  {
   "cell_type": "markdown",
   "id": "2a0512ad",
   "metadata": {},
   "source": [
    "```bash\n",
    "# Desde el directorio que contiene tu carpeta de proyecto\n",
    "!mv proyecto-antiguo Nuevo Nombre\n",
    "%cd Nuevo Nombre"
   ]
  },
  {
   "cell_type": "markdown",
   "id": "f5f09cf2",
   "metadata": {},
   "source": [
    "## 🔹 PASO 5: Verificar que todo sigue funcionando"
   ]
  },
  {
   "cell_type": "markdown",
   "id": "22bb6ab6",
   "metadata": {},
   "source": [
    "```bash\n",
    "git pull origin main\n",
    "git push origin main"
   ]
  },
  {
   "cell_type": "markdown",
   "id": "b0a552d6",
   "metadata": {},
   "source": [
    "Tu proyecto local y remoto ahora se llaman `Nuevo Nombre`, y todo está sincronizado."
   ]
  }
 ],
 "metadata": {
  "kernelspec": {
   "display_name": "base",
   "language": "python",
   "name": "python3"
  },
  "language_info": {
   "codemirror_mode": {
    "name": "ipython",
    "version": 3
   },
   "file_extension": ".py",
   "mimetype": "text/x-python",
   "name": "python",
   "nbconvert_exporter": "python",
   "pygments_lexer": "ipython3",
   "version": "3.11.5"
  }
 },
 "nbformat": 4,
 "nbformat_minor": 5
}
