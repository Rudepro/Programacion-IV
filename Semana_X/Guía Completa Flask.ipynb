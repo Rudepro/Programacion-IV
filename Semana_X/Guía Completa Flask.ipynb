{
 "cells": [
  {
   "cell_type": "markdown",
   "id": "c9142b81",
   "metadata": {},
   "source": [
    "# Guía Completa de Flask en Python\n",
    "\n",
    "## Contenidos\n",
    "\n",
    "- Instalación\n",
    "- Rutas\n",
    "- Parámetros dinámicos\n",
    "- Templates con Jinja2\n",
    "- Formularios (GET y POST)\n",
    "- Archivos estáticos\n",
    "- Redirecciones y mensajes flash\n",
    "- Manejo de sesiones\n",
    "- Blueprint y estructura modular\n",
    "- Base de datos con SQLAlchemy\n",
    "- API REST con Flask\n",
    "\n",
    "---\n"
   ]
  },
  {
   "cell_type": "code",
   "execution_count": null,
   "id": "00508710",
   "metadata": {},
   "outputs": [],
   "source": [
    "# Instalación \n",
    "# !pip install flask\n",
    "# !pip install flask flask_sqlalchemy"
   ]
  },
  {
   "cell_type": "markdown",
   "id": "99b7e6b4",
   "metadata": {},
   "source": [
    "## Aplicación Básica\n"
   ]
  },
  {
   "cell_type": "code",
   "execution_count": null,
   "id": "b858c80c",
   "metadata": {},
   "outputs": [],
   "source": [
    "from flask import Flask\n",
    "app = Flask(__name__)\n",
    "\n",
    "@app.route('/')\n",
    "def home():\n",
    "    return \"¡Hola, Flask!\"\n",
    "\n",
    "    # Guardar el código en un archivo llamado app.py y ejecutar el comando:\n",
    "    # python app.py"
   ]
  },
  {
   "cell_type": "markdown",
   "id": "6f5f4897",
   "metadata": {},
   "source": [
    "## Rutas con parámetros dinámicos\n"
   ]
  },
  {
   "cell_type": "code",
   "execution_count": null,
   "id": "70e877e2",
   "metadata": {},
   "outputs": [],
   "source": [
    "@app.route('/usuario/<nombre>')\n",
    "def usuario (nombre):\n",
    "    return f\"¡Hola, {nombre}!\"\n",
    "    "
   ]
  },
  {
   "cell_type": "markdown",
   "id": "46071802",
   "metadata": {},
   "source": [
    "## Templates\n"
   ]
  },
  {
   "cell_type": "code",
   "execution_count": null,
   "id": "601e4a07",
   "metadata": {},
   "outputs": [],
   "source": []
  }
 ],
 "metadata": {
  "kernelspec": {
   "display_name": "Python 3",
   "language": "python",
   "name": "python3"
  },
  "language_info": {
   "name": "python",
   "version": "3.13.3"
  }
 },
 "nbformat": 4,
 "nbformat_minor": 5
}
